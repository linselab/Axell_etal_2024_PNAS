{
 "cells": [
  {
   "cell_type": "markdown",
   "id": "21a51406-b6cc-4a06-a3e1-1d5583442405",
   "metadata": {},
   "source": [
    "# Dose response data handling"
   ]
  },
  {
   "cell_type": "code",
   "execution_count": 2,
   "id": "974da05d-c1ec-40be-9877-402a1f298808",
   "metadata": {
    "tags": []
   },
   "outputs": [],
   "source": [
    "import numpy as np\n",
    "import matplotlib.pyplot as plt\n",
    "import os\n",
    "import polars as pl\n",
    "import pandas as pd"
   ]
  },
  {
   "cell_type": "code",
   "execution_count": 3,
   "id": "80e6f4ce-af4f-4f0f-b68b-90ab332011b5",
   "metadata": {
    "tags": []
   },
   "outputs": [
    {
     "data": {
      "text/plain": [
       "polars.config.Config"
      ]
     },
     "execution_count": 3,
     "metadata": {},
     "output_type": "execute_result"
    }
   ],
   "source": [
    "pl.Config.set_fmt_str_lengths(50)"
   ]
  },
  {
   "cell_type": "code",
   "execution_count": 4,
   "id": "af53788c-96d5-4077-851b-5f033b9fb52d",
   "metadata": {
    "tags": []
   },
   "outputs": [],
   "source": [
    "# idle = [74.8070027968347,\n",
    "# 68.1297891541884,\n",
    "# 77.0260728744834,\n",
    "# 78.5974059875817]\n"
   ]
  },
  {
   "cell_type": "code",
   "execution_count": 5,
   "id": "155d876e-3cf6-4b29-a0bc-78af0526a2ab",
   "metadata": {
    "tags": []
   },
   "outputs": [
    {
     "data": {
      "text/html": [
       "<div><style>\n",
       ".dataframe > thead > tr,\n",
       ".dataframe > tbody > tr {\n",
       "  text-align: right;\n",
       "  white-space: pre-wrap;\n",
       "}\n",
       "</style>\n",
       "<small>shape: (36, 5)</small><table border=\"1\" class=\"dataframe\"><thead><tr><th>Dataset</th><th>m0</th><th>half_time</th><th>log(m0)</th><th>log(half_time)</th></tr><tr><td>str</td><td>f64</td><td>f64</td><td>f64</td><td>f64</td></tr></thead><tbody><tr><td>&quot;230713 2.5uM AB42 0 12-fluostar2: E01&quot;</td><td>1.0</td><td>31.975641</td><td>0.0</td><td>3.464974</td></tr><tr><td>&quot;230713 2.5uM AB42 0 12-fluostar2: E02&quot;</td><td>1.0</td><td>33.334817</td><td>0.0</td><td>3.506602</td></tr><tr><td>&quot;230713 2.5uM AB42 0 12-fluostar2: E03&quot;</td><td>1.0</td><td>33.130564</td><td>0.0</td><td>3.500456</td></tr><tr><td>&quot;230713 2.5uM AB42 0 12-fluostar2: E04&quot;</td><td>1.0</td><td>32.567661</td><td>0.0</td><td>3.48332</td></tr><tr><td>&quot;230713 2.5uM AB42 900 12-fluostar5: H01&quot;</td><td>2.0</td><td>147.436548</td><td>0.693147</td><td>4.993398</td></tr><tr><td>&hellip;</td><td>&hellip;</td><td>&hellip;</td><td>&hellip;</td><td>&hellip;</td></tr><tr><td>&quot;230713 2.5uM AB42 240 12-fluostar3: H04&quot;</td><td>1.0</td><td>130.64818</td><td>0.0</td><td>4.872508</td></tr><tr><td>&quot;230713 2.5uM AB42 240 12-fluostar1: E05&quot;</td><td>1.0</td><td>96.7014</td><td>0.0</td><td>4.571628</td></tr><tr><td>&quot;230713 2.5uM AB42 240 12-fluostar1: E06&quot;</td><td>1.0</td><td>96.205315</td><td>0.0</td><td>4.566485</td></tr><tr><td>&quot;230713 2.5uM AB42 240 12-fluostar1: E07&quot;</td><td>1.0</td><td>95.357047</td><td>0.0</td><td>4.557628</td></tr><tr><td>&quot;230713 2.5uM AB42 240 12-fluostar1: E08&quot;</td><td>1.0</td><td>102.029132</td><td>0.0</td><td>4.625258</td></tr></tbody></table></div>"
      ],
      "text/plain": [
       "shape: (36, 5)\n",
       "┌─────────────────────────────────────────┬─────┬────────────┬──────────┬────────────────┐\n",
       "│ Dataset                                 ┆ m0  ┆ half_time  ┆ log(m0)  ┆ log(half_time) │\n",
       "│ ---                                     ┆ --- ┆ ---        ┆ ---      ┆ ---            │\n",
       "│ str                                     ┆ f64 ┆ f64        ┆ f64      ┆ f64            │\n",
       "╞═════════════════════════════════════════╪═════╪════════════╪══════════╪════════════════╡\n",
       "│ 230713 2.5uM AB42 0 12-fluostar2: E01   ┆ 1.0 ┆ 31.975641  ┆ 0.0      ┆ 3.464974       │\n",
       "│ 230713 2.5uM AB42 0 12-fluostar2: E02   ┆ 1.0 ┆ 33.334817  ┆ 0.0      ┆ 3.506602       │\n",
       "│ 230713 2.5uM AB42 0 12-fluostar2: E03   ┆ 1.0 ┆ 33.130564  ┆ 0.0      ┆ 3.500456       │\n",
       "│ 230713 2.5uM AB42 0 12-fluostar2: E04   ┆ 1.0 ┆ 32.567661  ┆ 0.0      ┆ 3.48332        │\n",
       "│ 230713 2.5uM AB42 900 12-fluostar5: H01 ┆ 2.0 ┆ 147.436548 ┆ 0.693147 ┆ 4.993398       │\n",
       "│ …                                       ┆ …   ┆ …          ┆ …        ┆ …              │\n",
       "│ 230713 2.5uM AB42 240 12-fluostar3: H04 ┆ 1.0 ┆ 130.64818  ┆ 0.0      ┆ 4.872508       │\n",
       "│ 230713 2.5uM AB42 240 12-fluostar1: E05 ┆ 1.0 ┆ 96.7014    ┆ 0.0      ┆ 4.571628       │\n",
       "│ 230713 2.5uM AB42 240 12-fluostar1: E06 ┆ 1.0 ┆ 96.205315  ┆ 0.0      ┆ 4.566485       │\n",
       "│ 230713 2.5uM AB42 240 12-fluostar1: E07 ┆ 1.0 ┆ 95.357047  ┆ 0.0      ┆ 4.557628       │\n",
       "│ 230713 2.5uM AB42 240 12-fluostar1: E08 ┆ 1.0 ┆ 102.029132 ┆ 0.0      ┆ 4.625258       │\n",
       "└─────────────────────────────────────────┴─────┴────────────┴──────────┴────────────────┘"
      ]
     },
     "execution_count": 5,
     "metadata": {},
     "output_type": "execute_result"
    }
   ],
   "source": [
    "halftimes = pl.scan_csv('half_times.txt',\n",
    "                       separator='\\t',null_values=['failed','0-again','idle']).drop_nulls().collect()\n",
    "#dtypes={'half_time':pl.Float64}\n",
    "halftimes"
   ]
  },
  {
   "cell_type": "code",
   "execution_count": 6,
   "id": "cb19da6d-e81e-47e9-a44c-6e5ddd452653",
   "metadata": {
    "tags": []
   },
   "outputs": [],
   "source": [
    "#half_time_means = halftimes.groupby(['m0']).mean().sort(by='m0')"
   ]
  },
  {
   "cell_type": "code",
   "execution_count": 7,
   "id": "7f295ca0-0219-48ce-84bc-81ddfbdaafc0",
   "metadata": {
    "tags": []
   },
   "outputs": [
    {
     "data": {
      "text/plain": [
       "['230713 2.5uM AB42 0 12-fluostar2',\n",
       " '230713 2.5uM AB42 0 12-fluostar2',\n",
       " '230713 2.5uM AB42 0 12-fluostar2',\n",
       " '230713 2.5uM AB42 0 12-fluostar2',\n",
       " '230713 2.5uM AB42 900 12-fluostar5',\n",
       " '230713 2.5uM AB42 900 12-fluostar5',\n",
       " '230713 2.5uM AB42 900 12-fluostar5',\n",
       " '230713 2.5uM AB42 900 12-fluostar5',\n",
       " '230713 2.5uM AB42 120 12-fluostar4',\n",
       " '230713 2.5uM AB42 120 12-fluostar4',\n",
       " '230713 2.5uM AB42 120 12-fluostar4',\n",
       " '230713 2.5uM AB42 120 12-fluostar4',\n",
       " '230713 2.5uM AB42 0 12-fluostar4',\n",
       " '230713 2.5uM AB42 0 12-fluostar4',\n",
       " '230713 2.5uM AB42 0 12-fluostar4',\n",
       " '230713 2.5uM AB42 0 12-fluostar4',\n",
       " '230712 2.5uM AB42 480 12-fluostar4',\n",
       " '230712 2.5uM AB42 480 12-fluostar4',\n",
       " '230712 2.5uM AB42 480 12-fluostar4',\n",
       " '230712 2.5uM AB42 480 12-fluostar4',\n",
       " '230713 2.5uM AB42 30 12-fluostar5',\n",
       " '230713 2.5uM AB42 30 12-fluostar5',\n",
       " '230713 2.5uM AB42 30 12-fluostar5',\n",
       " '230713 2.5uM AB42 30 12-fluostar5',\n",
       " '230713 2.5uM AB42 11 12-fluostar5',\n",
       " '230713 2.5uM AB42 11 12-fluostar5',\n",
       " '230713 2.5uM AB42 11 12-fluostar5',\n",
       " '230713 2.5uM AB42 11 12-fluostar5',\n",
       " '230713 2.5uM AB42 240 12-fluostar3',\n",
       " '230713 2.5uM AB42 240 12-fluostar3',\n",
       " '230713 2.5uM AB42 240 12-fluostar3',\n",
       " '230713 2.5uM AB42 240 12-fluostar3',\n",
       " '230713 2.5uM AB42 240 12-fluostar1',\n",
       " '230713 2.5uM AB42 240 12-fluostar1',\n",
       " '230713 2.5uM AB42 240 12-fluostar1',\n",
       " '230713 2.5uM AB42 240 12-fluostar1']"
      ]
     },
     "execution_count": 7,
     "metadata": {},
     "output_type": "execute_result"
    }
   ],
   "source": [
    "sample=[]\n",
    "for x in halftimes['Dataset']:\n",
    "    sample.append(x.split(':')[0])\n",
    "sample"
   ]
  },
  {
   "cell_type": "code",
   "execution_count": 8,
   "id": "e03d9d80-41dd-40f4-8314-66f8d8e6772c",
   "metadata": {
    "tags": []
   },
   "outputs": [
    {
     "data": {
      "text/plain": [
       "['0',\n",
       " '0',\n",
       " '0',\n",
       " '0',\n",
       " '900',\n",
       " '900',\n",
       " '900',\n",
       " '900',\n",
       " '120',\n",
       " '120',\n",
       " '120',\n",
       " '120',\n",
       " '0',\n",
       " '0',\n",
       " '0',\n",
       " '0',\n",
       " '480',\n",
       " '480',\n",
       " '480',\n",
       " '480',\n",
       " '30',\n",
       " '30',\n",
       " '30',\n",
       " '30',\n",
       " '11',\n",
       " '11',\n",
       " '11',\n",
       " '11',\n",
       " '240',\n",
       " '240',\n",
       " '240',\n",
       " '240',\n",
       " '240',\n",
       " '240',\n",
       " '240',\n",
       " '240']"
      ]
     },
     "execution_count": 8,
     "metadata": {},
     "output_type": "execute_result"
    }
   ],
   "source": [
    "freqs=[]\n",
    "for x in halftimes['Dataset']:\n",
    "    freqs.append(x.split(' ')[3])\n",
    "freqs"
   ]
  },
  {
   "cell_type": "code",
   "execution_count": 9,
   "id": "4a6326c6-e7b5-4c29-a56d-579b2e36d33d",
   "metadata": {
    "tags": []
   },
   "outputs": [],
   "source": [
    "halftimes = halftimes.with_columns(pl.Series(name='freq',values=[int(x) for x in freqs]))"
   ]
  },
  {
   "cell_type": "code",
   "execution_count": 10,
   "id": "0f002d64-ea83-4813-b726-4c381be2cdcc",
   "metadata": {
    "tags": []
   },
   "outputs": [],
   "source": [
    "halftimes = halftimes.with_columns(pl.Series(name='sample',values=sample))"
   ]
  },
  {
   "cell_type": "code",
   "execution_count": 11,
   "id": "85d70c15-a3eb-4cc3-8ea7-1d2b20b32643",
   "metadata": {
    "tags": []
   },
   "outputs": [],
   "source": [
    "halftimes = halftimes.with_columns(pl.Series(name='plate_reader',values=[x.split('-')[-1] for x in halftimes['sample']]))"
   ]
  },
  {
   "cell_type": "code",
   "execution_count": 12,
   "id": "259aa402-9cac-4d1a-9c7a-365a69870a7d",
   "metadata": {
    "tags": []
   },
   "outputs": [],
   "source": [
    "halftimes = halftimes.with_columns(\n",
    "    pl.when(pl.col('freq')==11)\n",
    "    .then(0)\n",
    "    .otherwise(pl.col(\"freq\")).alias(\"freq\")\n",
    ")"
   ]
  },
  {
   "cell_type": "code",
   "execution_count": 13,
   "id": "b75d6b0e-09a5-4ab0-b437-fa82e1e8706b",
   "metadata": {
    "tags": []
   },
   "outputs": [],
   "source": [
    "# more modern approach\n",
    "# mapper = {11:0}\n",
    "# halftimes.select(pl.col('freq').map_dict"
   ]
  },
  {
   "cell_type": "code",
   "execution_count": 14,
   "id": "9d3f06fa-3ddb-4ac4-a157-bcce30cab27c",
   "metadata": {
    "tags": []
   },
   "outputs": [
    {
     "data": {
      "text/html": [
       "<div><style>\n",
       ".dataframe > thead > tr,\n",
       ".dataframe > tbody > tr {\n",
       "  text-align: right;\n",
       "  white-space: pre-wrap;\n",
       "}\n",
       "</style>\n",
       "<small>shape: (9, 3)</small><table border=\"1\" class=\"dataframe\"><thead><tr><th>sample</th><th>freq</th><th>half_time</th></tr><tr><td>str</td><td>f64</td><td>f64</td></tr></thead><tbody><tr><td>&quot;230713 2.5uM AB42 11 12-fluostar5&quot;</td><td>0.0</td><td>72.663724</td></tr><tr><td>&quot;230713 2.5uM AB42 0 12-fluostar2&quot;</td><td>0.0</td><td>32.752171</td></tr><tr><td>&quot;230713 2.5uM AB42 0 12-fluostar4&quot;</td><td>0.0</td><td>64.310885</td></tr><tr><td>&quot;230713 2.5uM AB42 30 12-fluostar5&quot;</td><td>30.0</td><td>75.554339</td></tr><tr><td>&quot;230713 2.5uM AB42 120 12-fluostar4&quot;</td><td>120.0</td><td>97.98296</td></tr><tr><td>&quot;230713 2.5uM AB42 240 12-fluostar1&quot;</td><td>240.0</td><td>97.573224</td></tr><tr><td>&quot;230713 2.5uM AB42 240 12-fluostar3&quot;</td><td>240.0</td><td>122.264978</td></tr><tr><td>&quot;230712 2.5uM AB42 480 12-fluostar4&quot;</td><td>480.0</td><td>144.080031</td></tr><tr><td>&quot;230713 2.5uM AB42 900 12-fluostar5&quot;</td><td>900.0</td><td>158.690346</td></tr></tbody></table></div>"
      ],
      "text/plain": [
       "shape: (9, 3)\n",
       "┌────────────────────────────────────┬───────┬────────────┐\n",
       "│ sample                             ┆ freq  ┆ half_time  │\n",
       "│ ---                                ┆ ---   ┆ ---        │\n",
       "│ str                                ┆ f64   ┆ f64        │\n",
       "╞════════════════════════════════════╪═══════╪════════════╡\n",
       "│ 230713 2.5uM AB42 11 12-fluostar5  ┆ 0.0   ┆ 72.663724  │\n",
       "│ 230713 2.5uM AB42 0 12-fluostar2   ┆ 0.0   ┆ 32.752171  │\n",
       "│ 230713 2.5uM AB42 0 12-fluostar4   ┆ 0.0   ┆ 64.310885  │\n",
       "│ 230713 2.5uM AB42 30 12-fluostar5  ┆ 30.0  ┆ 75.554339  │\n",
       "│ 230713 2.5uM AB42 120 12-fluostar4 ┆ 120.0 ┆ 97.98296   │\n",
       "│ 230713 2.5uM AB42 240 12-fluostar1 ┆ 240.0 ┆ 97.573224  │\n",
       "│ 230713 2.5uM AB42 240 12-fluostar3 ┆ 240.0 ┆ 122.264978 │\n",
       "│ 230712 2.5uM AB42 480 12-fluostar4 ┆ 480.0 ┆ 144.080031 │\n",
       "│ 230713 2.5uM AB42 900 12-fluostar5 ┆ 900.0 ┆ 158.690346 │\n",
       "└────────────────────────────────────┴───────┴────────────┘"
      ]
     },
     "execution_count": 14,
     "metadata": {},
     "output_type": "execute_result"
    }
   ],
   "source": [
    "halftimes.group_by('sample').mean().sort(by='freq').select(['sample','freq','half_time'])"
   ]
  },
  {
   "cell_type": "code",
   "execution_count": 15,
   "id": "1d280284-e586-4225-a654-8b5231167139",
   "metadata": {
    "tags": []
   },
   "outputs": [
    {
     "data": {
      "text/plain": [
       "freq\n",
       "900    147.436548\n",
       "900    161.569149\n",
       "900    162.393617\n",
       "900    163.362069\n",
       "120     94.775564\n",
       "120     98.119723\n",
       "120     97.686158\n",
       "120    101.350397\n",
       "0       65.269731\n",
       "0       65.766934\n",
       "0       61.978702\n",
       "0       64.228174\n",
       "480    144.928600\n",
       "480    151.066992\n",
       "480    147.065378\n",
       "480    133.259153\n",
       "30      75.420185\n",
       "30      76.615117\n",
       "30      75.176564\n",
       "30      75.005489\n",
       "0       70.782602\n",
       "0       71.160988\n",
       "0       74.299984\n",
       "0       74.411323\n",
       "240    109.915653\n",
       "240    119.104895\n",
       "240    129.391182\n",
       "240    130.648180\n",
       "240     96.701400\n",
       "240     96.205315\n",
       "240     95.357047\n",
       "240    102.029132\n",
       "Name: half_time, dtype: float64"
      ]
     },
     "execution_count": 15,
     "metadata": {},
     "output_type": "execute_result"
    }
   ],
   "source": [
    "halftimes=halftimes.filter(pl.col('sample')!=\"230713 2.5uM AB42 0 12-fluostar2\")\n",
    "half_times_pd = pd.Series(data=halftimes['half_time'],\n",
    "                          index=halftimes['freq'],name='half_time')\n",
    "half_times_pd.index = half_times_pd.index.set_names('freq')\n",
    "half_times_pd"
   ]
  },
  {
   "cell_type": "code",
   "execution_count": 16,
   "id": "331e452d-23e3-400d-9a6b-73af15c0863f",
   "metadata": {
    "tags": []
   },
   "outputs": [
    {
     "data": {
      "text/plain": [
       "freq\n",
       "0       4.774239\n",
       "30      0.727369\n",
       "120     2.691580\n",
       "240    14.785688\n",
       "480     7.649431\n",
       "900     7.538229\n",
       "Name: half_time, dtype: float64"
      ]
     },
     "execution_count": 16,
     "metadata": {},
     "output_type": "execute_result"
    }
   ],
   "source": [
    "half_times_pd.groupby('freq').std()"
   ]
  },
  {
   "cell_type": "code",
   "execution_count": 17,
   "id": "ce50cd79-e381-4a6b-9d54-59a0931008de",
   "metadata": {
    "tags": []
   },
   "outputs": [],
   "source": [
    "# halftimes.with_columns(\n",
    "#     pl.col('Dataset')\n",
    "#     .str.extract_all(\n",
    "#         r\"\").alias('properties'))\n",
    "    \n",
    "    "
   ]
  },
  {
   "cell_type": "code",
   "execution_count": 18,
   "id": "ab226f4a-bce4-45c6-afcc-7908d83cd532",
   "metadata": {
    "tags": []
   },
   "outputs": [],
   "source": [
    "# halftimes.with_columns(\n",
    "#     pl.col('Dataset').str.split(by='-').alias('properties')\n",
    "#     .list.to_struct(fields=['date','sample','freq',\n",
    "#                             'number of samples',\n",
    "#                             'plate reader and well'])\n",
    "# ).unest('properties')#select('properties')[2]"
   ]
  },
  {
   "cell_type": "code",
   "execution_count": null,
   "id": "752e6d45-5fb5-455e-b9c5-20893a07870b",
   "metadata": {},
   "outputs": [],
   "source": []
  },
  {
   "cell_type": "code",
   "execution_count": 19,
   "id": "b1cf6989-a5d0-4d4b-9800-a1799c1c3ab8",
   "metadata": {},
   "outputs": [],
   "source": [
    "import matplotlib"
   ]
  },
  {
   "cell_type": "code",
   "execution_count": 20,
   "id": "8a6657d5-96eb-4058-b74b-3ddae5f32879",
   "metadata": {
    "tags": []
   },
   "outputs": [],
   "source": [
    "from matplotlib import font_manager\n",
    "font_manager.fontManager.addfont('Helvetica-Font/Helvetica.ttf')\n",
    "font_manager.fontManager.addfont('Helvetica-Font/Helvetica-Bold.ttf')"
   ]
  },
  {
   "cell_type": "code",
   "execution_count": 27,
   "id": "a093977e-5dab-43c9-aad0-44caa68c917a",
   "metadata": {
    "tags": []
   },
   "outputs": [],
   "source": [
    "# general parameters for plotting\n",
    "matplotlib.rcParams['axes.linewidth'] = 1.5\n",
    "plt.rcParams[\"font.weight\"] = \"bold\"\n",
    "plt.rcParams[\"axes.labelweight\"] = \"bold\"\n",
    "\n",
    "plt.rcParams[\"figure.dpi\"] = 300\n",
    "plt.rcParams[\"axes.formatter.use_mathtext\"] = True\n",
    "plt.rcParams[\"font.family\"] = 'Helvetica'\n",
    "#plt.rcParams[\"font.serif\"] = [\"cmr10\"]\n",
    "#plt.rcParams[\"mathtext.fontset\"]='cm'\n",
    "plt.rcParams[\"font.size\"] = 6\n",
    "matplotlib.rcParams['mathtext.default'] = 'regular'\n",
    "matplotlib.rcParams['axes.linewidth'] = 0.5\n",
    "cm_to_inch=1/2.54\n",
    "def legend_without_duplicate_labels(ax):\n",
    "    handles, labels = ax.get_legend_handles_labels()\n",
    "    unique = [(h, l) for i, (h, l) in enumerate(zip(handles, labels)) if l not in labels[:i]]\n",
    "    ax.legend(*zip(*unique),fontsize=6,frameon=False)"
   ]
  },
  {
   "cell_type": "code",
   "execution_count": 28,
   "id": "17a54c39-c0dd-4fb3-ac0e-13ca6d8d58c3",
   "metadata": {
    "tags": []
   },
   "outputs": [
    {
     "data": {
      "image/png": "[encoded data removed]",
      "text/plain": [
       "<Figure size 673.228x472.441 with 1 Axes>"
      ]
     },
     "metadata": {},
     "output_type": "display_data"
    }
   ],
   "source": [
    "fig,ax = plt.subplots(1,figsize=(5.7*cm_to_inch,4*cm_to_inch))\n",
    "ax.errorbar(half_times_pd.groupby('freq').mean().index,\n",
    "    half_times_pd.groupby('freq').mean(),\n",
    "    half_times_pd.groupby('freq').std(),\n",
    "    marker='.',linestyle=' ',color='black',capsize=2)\n",
    "plt.title('Dose Dependence')\n",
    "plt.ylabel(r'$t_{1/2}$ (min)')\n",
    "plt.xlabel('Time between readings (s)')\n",
    "plt.ylim(0,175)\n",
    "ax.spines.right.set_visible(False)\n",
    "ax.spines.top.set_visible(False)\n",
    "#ax.annotate('A',xycoords=(0.1,0.1))\n",
    "plt.tight_layout()\n",
    "#plt.savefig('plots/230713 dose dep/halftimes-vs-reading_freq.svg')\n",
    "#plt.savefig('plots/230713 dose dep/halftimes-vs-reading_freq.pdf')"
   ]
  },
  {
   "cell_type": "code",
   "execution_count": 23,
   "id": "018d3f82-8484-46c4-80b6-9a789a9d00b2",
   "metadata": {
    "tags": []
   },
   "outputs": [
    {
     "data": {
      "image/png": "[encoded data removed]",
      "text/plain": [
       "<Figure size 673.228x472.441 with 1 Axes>"
      ]
     },
     "metadata": {},
     "output_type": "display_data"
    }
   ],
   "source": [
    "fig,axs = plt.subplots((2,2),figsize=(11.6*cm_to_inch,11.6*cm_to_inch))\n",
    "axs[0,0].errorbar(half_times_pd.groupby('freq').mean().index,\n",
    "    half_times_pd.groupby('freq').mean(),\n",
    "    half_times_pd.groupby('freq').std(),\n",
    "    marker='.',linestyle=' ',color='black',capsize=2)\n",
    "axs[0,0].set_title('Dose Dependence')\n",
    "axs[0,0].set_ylabel(r'$t_{1/2}$ (min)')\n",
    "axs[0,0].set_xlabel('Time between readings (s)')\n",
    "axs[0,0].set_ylim(0,175)\n",
    "\n",
    "for ax in axs.flat:\n",
    "    ax.spines.right.set_visible(False)\n",
    "    ax.spines.top.set_visible(False)\n",
    "#ax.annotate('A',xycoords=(0.1,0.1))\n",
    "plt.tight_layout()\n",
    "#plt.savefig('plots/230713 dose dep/halftimes-vs-reading_freq.svg')\n",
    "plt.savefig('dose dep.pdf')"
   ]
  },
  {
   "cell_type": "code",
   "execution_count": null,
   "id": "a728ab68-7aeb-4987-8bdb-636e2369f6bf",
   "metadata": {},
   "outputs": [],
   "source": []
  }
 ],
 "metadata": {
  "kernelspec": {
   "display_name": "Python 3 (ipykernel)",
   "language": "python",
   "name": "python3"
  },
  "language_info": {
   "codemirror_mode": {
    "name": "ipython",
    "version": 3
   },
   "file_extension": ".py",
   "mimetype": "text/x-python",
   "name": "python",
   "nbconvert_exporter": "python",
   "pygments_lexer": "ipython3",
   "version": "3.12.2"
  }
 },
 "nbformat": 4,
 "nbformat_minor": 5
}
